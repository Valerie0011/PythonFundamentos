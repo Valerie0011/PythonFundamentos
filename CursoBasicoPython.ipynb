{
  "nbformat": 4,
  "nbformat_minor": 0,
  "metadata": {
    "colab": {
      "provenance": [],
      "authorship_tag": "ABX9TyPTwhCE+8OBTqlniztTwFD9",
      "include_colab_link": true
    },
    "kernelspec": {
      "name": "python3",
      "display_name": "Python 3"
    },
    "language_info": {
      "name": "python"
    }
  },
  "cells": [
    {
      "cell_type": "markdown",
      "metadata": {
        "id": "view-in-github",
        "colab_type": "text"
      },
      "source": [
        "<a href=\"https://colab.research.google.com/github/Valerie0011/PythonFundamentos/blob/master/CursoBasicoPython.ipynb\" target=\"_parent\"><img src=\"https://colab.research.google.com/assets/colab-badge.svg\" alt=\"Open In Colab\"/></a>"
      ]
    },
    {
      "cell_type": "markdown",
      "source": [
        "**Passo a passo da solução do desafio**\n"
      ],
      "metadata": {
        "id": "S6Uc2PebsD3O"
      }
    },
    {
      "cell_type": "code",
      "execution_count": 6,
      "metadata": {
        "id": "dYBqwrphrwo-"
      },
      "outputs": [],
      "source": [
        "# Lógica de Programação\n",
        "# Passo Zero: Entender o desafio proposto\n",
        "# Passo 1: Percorrer todos os arquivos da pasta Base de Dados (vendas)\n",
        "import os\n",
        "\n",
        "lista_arquivos = os.listdir()\n",
        "\n",
        "\n",
        "\n",
        "\n",
        "\n",
        "\n",
        "\n",
        "# Passo 2: Importar a base de dados de Vendas\n",
        "# Passo 3: Tratar e compilar a base de dados\n",
        "# Passo 4: Calcular o produto mais vendido (em quantidade)\n",
        "# Passo 5: Calcular o produto que mais faturou (em faturamento)\n",
        "# Passo 6: Loja/cidade que mais vendeu\n",
        "# Passo 7: Fazer o nosso gráfico\n"
      ]
    }
  ]
}